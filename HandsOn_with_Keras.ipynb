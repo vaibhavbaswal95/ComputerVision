{
  "nbformat": 4,
  "nbformat_minor": 0,
  "metadata": {
    "colab": {
      "name": "HandsOn with Keras.ipynb",
      "provenance": [],
      "authorship_tag": "ABX9TyP2Hsk+h/8/5G00WbuK7RH2",
      "include_colab_link": true
    },
    "kernelspec": {
      "name": "python3",
      "display_name": "Python 3"
    }
  },
  "cells": [
    {
      "cell_type": "markdown",
      "metadata": {
        "id": "view-in-github",
        "colab_type": "text"
      },
      "source": [
        "<a href=\"https://colab.research.google.com/github/vaibhavbaswal95/ComputerVision/blob/master/HandsOn_with_Keras.ipynb\" target=\"_parent\"><img src=\"https://colab.research.google.com/assets/colab-badge.svg\" alt=\"Open In Colab\"/></a>"
      ]
    },
    {
      "cell_type": "code",
      "metadata": {
        "id": "rUusu6NLZRkD",
        "colab_type": "code",
        "colab": {}
      },
      "source": [
        "##import statements\n",
        "\n",
        "import tensorflow as tf\n",
        "from tensorflow import keras"
      ],
      "execution_count": 0,
      "outputs": []
    },
    {
      "cell_type": "code",
      "metadata": {
        "id": "hoDsU5QKZchc",
        "colab_type": "code",
        "outputId": "4db6ae15-f878-4924-a25d-8d79683dafc8",
        "colab": {
          "base_uri": "https://localhost:8080/",
          "height": 34
        }
      },
      "source": [
        "tf.VERSION"
      ],
      "execution_count": 0,
      "outputs": [
        {
          "output_type": "execute_result",
          "data": {
            "text/plain": [
              "'1.15.0'"
            ]
          },
          "metadata": {
            "tags": []
          },
          "execution_count": 3
        }
      ]
    },
    {
      "cell_type": "code",
      "metadata": {
        "id": "nzXeVSVsZk15",
        "colab_type": "code",
        "colab": {}
      },
      "source": [
        "from __future__ import absolute_import, division, print_function, unicode_literals"
      ],
      "execution_count": 0,
      "outputs": []
    },
    {
      "cell_type": "code",
      "metadata": {
        "id": "ozbPys9rZ-sF",
        "colab_type": "code",
        "outputId": "ab26db12-ff74-4325-89a1-c9321c487fdf",
        "colab": {
          "base_uri": "https://localhost:8080/",
          "height": 34
        }
      },
      "source": [
        "tf.keras.__version__"
      ],
      "execution_count": 0,
      "outputs": [
        {
          "output_type": "execute_result",
          "data": {
            "text/plain": [
              "'2.2.4-tf'"
            ]
          },
          "metadata": {
            "tags": []
          },
          "execution_count": 5
        }
      ]
    },
    {
      "cell_type": "code",
      "metadata": {
        "id": "MskI53EraV6f",
        "colab_type": "code",
        "colab": {}
      },
      "source": [
        "from tensorflow.keras import layers"
      ],
      "execution_count": 0,
      "outputs": []
    },
    {
      "cell_type": "code",
      "metadata": {
        "id": "NHsmC0ora4b7",
        "colab_type": "code",
        "colab": {}
      },
      "source": [
        "#Linear stack of layers\n",
        "\n",
        "model = tf.keras.Sequential()\n",
        "model.add(layers.Dense(64, activation='relu'))\n",
        "model.add(layers.Dense(32, activation='relu'))\n",
        "model.add(layers.Dense(10))"
      ],
      "execution_count": 0,
      "outputs": []
    },
    {
      "cell_type": "code",
      "metadata": {
        "id": "wefAU_F7cRYH",
        "colab_type": "code",
        "colab": {}
      },
      "source": [
        "#we need to compile the model before passing the data fro training\n",
        "\n",
        "model.compile(optimizer=tf.keras.optimizers.Adam(0.01),\n",
        "              loss=tf.keras.losses.CategoricalCrossentropy(from_logits=True),\n",
        "              metrics=['accuracy'])"
      ],
      "execution_count": 0,
      "outputs": []
    },
    {
      "cell_type": "code",
      "metadata": {
        "id": "bDa1pX9ahK5f",
        "colab_type": "code",
        "colab": {}
      },
      "source": [
        "#training on numpy data\n",
        "\n",
        "import numpy as np\n",
        "\n",
        "data = np.random.random((1000,32))"
      ],
      "execution_count": 0,
      "outputs": []
    },
    {
      "cell_type": "code",
      "metadata": {
        "id": "oNAy8r31hX7K",
        "colab_type": "code",
        "outputId": "f3a8a5fc-44e0-49a6-faf8-f7152f3991aa",
        "colab": {
          "base_uri": "https://localhost:8080/",
          "height": 34
        }
      },
      "source": [
        "data[0].shape"
      ],
      "execution_count": 0,
      "outputs": [
        {
          "output_type": "execute_result",
          "data": {
            "text/plain": [
              "(32,)"
            ]
          },
          "metadata": {
            "tags": []
          },
          "execution_count": 10
        }
      ]
    },
    {
      "cell_type": "code",
      "metadata": {
        "id": "RMUTTlqShYpa",
        "colab_type": "code",
        "colab": {}
      },
      "source": [
        "labels = np.random.random((1000,10))"
      ],
      "execution_count": 0,
      "outputs": []
    },
    {
      "cell_type": "code",
      "metadata": {
        "id": "hIp_Pibahu42",
        "colab_type": "code",
        "outputId": "0eb5f35e-6e59-45f9-ef88-3bdf23b162d4",
        "colab": {
          "base_uri": "https://localhost:8080/",
          "height": 462
        }
      },
      "source": [
        "model.fit(data, labels, epochs=10, batch_size=32)"
      ],
      "execution_count": 0,
      "outputs": [
        {
          "output_type": "stream",
          "text": [
            "WARNING:tensorflow:From /usr/local/lib/python3.6/dist-packages/tensorflow_core/python/ops/resource_variable_ops.py:1630: calling BaseResourceVariable.__init__ (from tensorflow.python.ops.resource_variable_ops) with constraint is deprecated and will be removed in a future version.\n",
            "Instructions for updating:\n",
            "If using Keras pass *_constraint arguments to layers.\n",
            "Train on 1000 samples\n",
            "Epoch 1/10\n",
            "1000/1000 [==============================] - 0s 228us/sample - loss: 44.7086 - acc: 0.1090\n",
            "Epoch 2/10\n",
            "1000/1000 [==============================] - 0s 52us/sample - loss: 77.5289 - acc: 0.1000\n",
            "Epoch 3/10\n",
            "1000/1000 [==============================] - 0s 44us/sample - loss: 318.0067 - acc: 0.0930\n",
            "Epoch 4/10\n",
            "1000/1000 [==============================] - 0s 50us/sample - loss: 789.0999 - acc: 0.0810\n",
            "Epoch 5/10\n",
            "1000/1000 [==============================] - 0s 50us/sample - loss: 1561.6876 - acc: 0.1110\n",
            "Epoch 6/10\n",
            "1000/1000 [==============================] - 0s 50us/sample - loss: 2642.1051 - acc: 0.1080\n",
            "Epoch 7/10\n",
            "1000/1000 [==============================] - 0s 48us/sample - loss: 4633.3379 - acc: 0.1150\n",
            "Epoch 8/10\n",
            "1000/1000 [==============================] - 0s 50us/sample - loss: 5973.0318 - acc: 0.1050\n",
            "Epoch 9/10\n",
            "1000/1000 [==============================] - 0s 47us/sample - loss: 6437.3154 - acc: 0.0950\n",
            "Epoch 10/10\n",
            "1000/1000 [==============================] - 0s 49us/sample - loss: 9237.4677 - acc: 0.0880\n"
          ],
          "name": "stdout"
        },
        {
          "output_type": "execute_result",
          "data": {
            "text/plain": [
              "<tensorflow.python.keras.callbacks.History at 0x7f27f4ce5128>"
            ]
          },
          "metadata": {
            "tags": []
          },
          "execution_count": 12
        }
      ]
    },
    {
      "cell_type": "code",
      "metadata": {
        "id": "iYxmktkQh3ko",
        "colab_type": "code",
        "outputId": "98a0ab4c-9937-40f3-e4ee-1d2b5f628497",
        "colab": {
          "base_uri": "https://localhost:8080/",
          "height": 391
        }
      },
      "source": [
        "#training on numpy data, and performing validation on data\n",
        "\n",
        "data = np.random.random((1000, 32))\n",
        "labels = np.random.random((1000, 10))\n",
        "\n",
        "val_data = np.random.random((100, 32))\n",
        "val_labels = np.random.random((100, 10))\n",
        "\n",
        "model.fit(data, labels, epochs=10, batch_size=32,\n",
        "          validation_data=(val_data, val_labels))"
      ],
      "execution_count": 0,
      "outputs": [
        {
          "output_type": "stream",
          "text": [
            "Train on 1000 samples, validate on 100 samples\n",
            "Epoch 1/10\n",
            "1000/1000 [==============================] - 0s 239us/sample - loss: 57.6624 - acc: 0.0940 - val_loss: 111.9479 - val_acc: 0.0900\n",
            "Epoch 2/10\n",
            "1000/1000 [==============================] - 0s 57us/sample - loss: 193.1825 - acc: 0.1200 - val_loss: 288.5107 - val_acc: 0.0800\n",
            "Epoch 3/10\n",
            "1000/1000 [==============================] - 0s 57us/sample - loss: 578.0344 - acc: 0.0910 - val_loss: 781.9661 - val_acc: 0.1100\n",
            "Epoch 4/10\n",
            "1000/1000 [==============================] - 0s 55us/sample - loss: 1492.5527 - acc: 0.0880 - val_loss: 2324.2319 - val_acc: 0.0800\n",
            "Epoch 5/10\n",
            "1000/1000 [==============================] - 0s 57us/sample - loss: 2977.7752 - acc: 0.0910 - val_loss: 3356.6037 - val_acc: 0.1200\n",
            "Epoch 6/10\n",
            "1000/1000 [==============================] - 0s 52us/sample - loss: 5290.5255 - acc: 0.0850 - val_loss: 8528.0177 - val_acc: 0.1200\n",
            "Epoch 7/10\n",
            "1000/1000 [==============================] - 0s 52us/sample - loss: 10082.7219 - acc: 0.0980 - val_loss: 10321.8987 - val_acc: 0.1100\n",
            "Epoch 8/10\n",
            "1000/1000 [==============================] - 0s 52us/sample - loss: 10929.8295 - acc: 0.0940 - val_loss: 8416.4055 - val_acc: 0.0800\n",
            "Epoch 9/10\n",
            "1000/1000 [==============================] - 0s 56us/sample - loss: 15488.4524 - acc: 0.1020 - val_loss: 15146.6876 - val_acc: 0.0800\n",
            "Epoch 10/10\n",
            "1000/1000 [==============================] - 0s 54us/sample - loss: 18085.7072 - acc: 0.0850 - val_loss: 19844.3657 - val_acc: 0.1900\n"
          ],
          "name": "stdout"
        },
        {
          "output_type": "execute_result",
          "data": {
            "text/plain": [
              "<tensorflow.python.keras.callbacks.History at 0x7f27d4ecb550>"
            ]
          },
          "metadata": {
            "tags": []
          },
          "execution_count": 57
        }
      ]
    },
    {
      "cell_type": "code",
      "metadata": {
        "id": "4U5YjfE6iBM5",
        "colab_type": "code",
        "colab": {}
      },
      "source": [
        "# using Dataset API \n",
        "\n",
        "dataset = tf.data.Dataset.from_tensor_slices((data,labels))"
      ],
      "execution_count": 0,
      "outputs": []
    },
    {
      "cell_type": "code",
      "metadata": {
        "id": "rt9n0I8mijBg",
        "colab_type": "code",
        "colab": {}
      },
      "source": [
        "dataset = dataset.batch(32)"
      ],
      "execution_count": 0,
      "outputs": []
    },
    {
      "cell_type": "code",
      "metadata": {
        "id": "ZfnmWApAimyS",
        "colab_type": "code",
        "outputId": "3da9eb6b-ae31-412c-ffdb-72a8acc4fbbb",
        "colab": {
          "base_uri": "https://localhost:8080/",
          "height": 408
        }
      },
      "source": [
        "model.fit(dataset,epochs=10)"
      ],
      "execution_count": 0,
      "outputs": [
        {
          "output_type": "stream",
          "text": [
            "WARNING:tensorflow:Expected a shuffled dataset but input dataset `x` is not shuffled. Please invoke `shuffle()` on input dataset.\n",
            "Train on 32 steps\n",
            "Epoch 1/10\n",
            "32/32 [==============================] - 0s 3ms/step - loss: 45202.7384 - acc: 0.0950\n",
            "Epoch 2/10\n",
            "32/32 [==============================] - 0s 2ms/step - loss: 52361.1814 - acc: 0.1070\n",
            "Epoch 3/10\n",
            "32/32 [==============================] - 0s 2ms/step - loss: 59513.7687 - acc: 0.0950\n",
            "Epoch 4/10\n",
            "32/32 [==============================] - 0s 2ms/step - loss: 54582.0978 - acc: 0.0970\n",
            "Epoch 5/10\n",
            "32/32 [==============================] - 0s 2ms/step - loss: 43572.5828 - acc: 0.0960\n",
            "Epoch 6/10\n",
            "32/32 [==============================] - 0s 2ms/step - loss: 60434.6307 - acc: 0.1020\n",
            "Epoch 7/10\n",
            "32/32 [==============================] - 0s 2ms/step - loss: 59489.4434 - acc: 0.1030\n",
            "Epoch 8/10\n",
            "32/32 [==============================] - 0s 1ms/step - loss: 74823.3044 - acc: 0.1120\n",
            "Epoch 9/10\n",
            "32/32 [==============================] - 0s 2ms/step - loss: 87025.7809 - acc: 0.0970\n",
            "Epoch 10/10\n",
            "32/32 [==============================] - 0s 2ms/step - loss: 76447.6920 - acc: 0.0890\n"
          ],
          "name": "stdout"
        },
        {
          "output_type": "execute_result",
          "data": {
            "text/plain": [
              "<tensorflow.python.keras.callbacks.History at 0x7f27ef5869b0>"
            ]
          },
          "metadata": {
            "tags": []
          },
          "execution_count": 16
        }
      ]
    },
    {
      "cell_type": "code",
      "metadata": {
        "id": "Ak9t7RsjisAh",
        "colab_type": "code",
        "outputId": "8925192e-cdba-45dd-e3f5-8bccaf9fa8f5",
        "colab": {
          "base_uri": "https://localhost:8080/",
          "height": 408
        }
      },
      "source": [
        "dataset = tf.data.Dataset.from_tensor_slices((data, labels))\n",
        "dataset = dataset.batch(32)\n",
        "\n",
        "val_dataset = tf.data.Dataset.from_tensor_slices((val_data, val_labels))\n",
        "val_dataset = val_dataset.batch(32)\n",
        "\n",
        "model.fit(dataset, epochs=10,\n",
        "          validation_data=val_dataset)"
      ],
      "execution_count": 0,
      "outputs": [
        {
          "output_type": "stream",
          "text": [
            "WARNING:tensorflow:Expected a shuffled dataset but input dataset `x` is not shuffled. Please invoke `shuffle()` on input dataset.\n",
            "Train on 32 steps, validate on 4 steps\n",
            "Epoch 1/10\n",
            "32/32 [==============================] - 0s 5ms/step - loss: 86012.0748 - acc: 0.0940 - val_loss: 62415.7979 - val_acc: 0.0800\n",
            "Epoch 2/10\n",
            "32/32 [==============================] - 0s 2ms/step - loss: 104139.9113 - acc: 0.1190 - val_loss: 91148.4082 - val_acc: 0.1400\n",
            "Epoch 3/10\n",
            "32/32 [==============================] - 0s 2ms/step - loss: 61561.9895 - acc: 0.1000 - val_loss: 100918.0625 - val_acc: 0.1300\n",
            "Epoch 4/10\n",
            "32/32 [==============================] - 0s 2ms/step - loss: 122604.5835 - acc: 0.1200 - val_loss: 178718.1016 - val_acc: 0.1300\n",
            "Epoch 5/10\n",
            "32/32 [==============================] - 0s 2ms/step - loss: 147680.5454 - acc: 0.0950 - val_loss: 130730.2637 - val_acc: 0.0900\n",
            "Epoch 6/10\n",
            "32/32 [==============================] - 0s 2ms/step - loss: 120539.4231 - acc: 0.1130 - val_loss: 115427.7988 - val_acc: 0.0900\n",
            "Epoch 7/10\n",
            "32/32 [==============================] - 0s 2ms/step - loss: 134094.2920 - acc: 0.0970 - val_loss: 78601.2578 - val_acc: 0.0600\n",
            "Epoch 8/10\n",
            "32/32 [==============================] - 0s 2ms/step - loss: 150511.1248 - acc: 0.0900 - val_loss: 169213.0703 - val_acc: 0.0900\n",
            "Epoch 9/10\n",
            "32/32 [==============================] - 0s 2ms/step - loss: 157886.7993 - acc: 0.0990 - val_loss: 154628.7266 - val_acc: 0.0800\n",
            "Epoch 10/10\n",
            "32/32 [==============================] - 0s 2ms/step - loss: 131376.0122 - acc: 0.0990 - val_loss: 199357.3242 - val_acc: 0.1400\n"
          ],
          "name": "stdout"
        },
        {
          "output_type": "execute_result",
          "data": {
            "text/plain": [
              "<tensorflow.python.keras.callbacks.History at 0x7f27ed849898>"
            ]
          },
          "metadata": {
            "tags": []
          },
          "execution_count": 17
        }
      ]
    },
    {
      "cell_type": "code",
      "metadata": {
        "id": "Y_U5eeBFixkV",
        "colab_type": "code",
        "outputId": "c9abafd4-aa46-4568-b8e5-1b3ab3b812da",
        "colab": {
          "base_uri": "https://localhost:8080/",
          "height": 51
        }
      },
      "source": [
        "data = np.random.random((1000, 32))\n",
        "labels = np.random.random((1000, 10))\n",
        "\n",
        "model.evaluate(data, labels, batch_size=32)\n"
      ],
      "execution_count": 0,
      "outputs": [
        {
          "output_type": "stream",
          "text": [
            "1000/1000 [==============================] - 0s 48us/sample - loss: 203307.4443 - acc: 0.1000\n"
          ],
          "name": "stdout"
        },
        {
          "output_type": "execute_result",
          "data": {
            "text/plain": [
              "[203307.44425, 0.1]"
            ]
          },
          "metadata": {
            "tags": []
          },
          "execution_count": 18
        }
      ]
    },
    {
      "cell_type": "code",
      "metadata": {
        "id": "Dnnh9FzCi2U2",
        "colab_type": "code",
        "outputId": "0017fe0c-68d6-4897-e60c-2c41a78e197f",
        "colab": {
          "base_uri": "https://localhost:8080/",
          "height": 34
        }
      },
      "source": [
        "result = model.predict(data, batch_size=32)\n",
        "print(result.shape)"
      ],
      "execution_count": 0,
      "outputs": [
        {
          "output_type": "stream",
          "text": [
            "(1000, 10)\n"
          ],
          "name": "stdout"
        }
      ]
    },
    {
      "cell_type": "code",
      "metadata": {
        "id": "Vsp0SPUxi6pa",
        "colab_type": "code",
        "colab": {}
      },
      "source": [
        "##### Non Sequential Model"
      ],
      "execution_count": 0,
      "outputs": []
    },
    {
      "cell_type": "code",
      "metadata": {
        "id": "v9BMD9_FZv5G",
        "colab_type": "code",
        "colab": {}
      },
      "source": [
        "inputs = tf.keras.Input(shape=(32,))"
      ],
      "execution_count": 0,
      "outputs": []
    },
    {
      "cell_type": "code",
      "metadata": {
        "id": "YVpR00OpaGaq",
        "colab_type": "code",
        "colab": {}
      },
      "source": [
        "x = layers.Dense(64,activation='relu')(inputs)\n",
        "x = layers.Dense(64,activation='relu')(x)\n",
        "prediction = layers.Dense(10)(x)"
      ],
      "execution_count": 0,
      "outputs": []
    },
    {
      "cell_type": "code",
      "metadata": {
        "id": "UtA3aqVja46G",
        "colab_type": "code",
        "colab": {}
      },
      "source": [
        "model = tf.keras.Model(inputs=inputs, outputs=prediction)"
      ],
      "execution_count": 0,
      "outputs": []
    },
    {
      "cell_type": "code",
      "metadata": {
        "id": "e8fmD4dlbHjo",
        "colab_type": "code",
        "colab": {}
      },
      "source": [
        "model.compile(optimizer=tf.keras.optimizers.RMSprop(0.001),\n",
        "              loss=tf.keras.losses.CategoricalCrossentropy(from_logits=True),\n",
        "              metrics=['accuracy'])"
      ],
      "execution_count": 0,
      "outputs": []
    },
    {
      "cell_type": "code",
      "metadata": {
        "id": "IBNAsqNmbQad",
        "colab_type": "code",
        "outputId": "b30586b9-d89c-4c64-87aa-1280b8ac732f",
        "colab": {
          "base_uri": "https://localhost:8080/",
          "height": 221
        }
      },
      "source": [
        "model.fit(data, labels, batch_size=32, epochs=5)"
      ],
      "execution_count": 0,
      "outputs": [
        {
          "output_type": "stream",
          "text": [
            "Train on 1000 samples\n",
            "Epoch 1/5\n",
            "1000/1000 [==============================] - 0s 104us/sample - loss: 12.6357 - acc: 0.0910\n",
            "Epoch 2/5\n",
            "1000/1000 [==============================] - 0s 42us/sample - loss: 21.6176 - acc: 0.1030\n",
            "Epoch 3/5\n",
            "1000/1000 [==============================] - 0s 39us/sample - loss: 40.3887 - acc: 0.1090\n",
            "Epoch 4/5\n",
            "1000/1000 [==============================] - 0s 39us/sample - loss: 63.6495 - acc: 0.1080\n",
            "Epoch 5/5\n",
            "1000/1000 [==============================] - 0s 38us/sample - loss: 90.5894 - acc: 0.1100\n"
          ],
          "name": "stdout"
        },
        {
          "output_type": "execute_result",
          "data": {
            "text/plain": [
              "<tensorflow.python.keras.callbacks.History at 0x7f27d747ed30>"
            ]
          },
          "metadata": {
            "tags": []
          },
          "execution_count": 27
        }
      ]
    },
    {
      "cell_type": "code",
      "metadata": {
        "id": "IgxsxAA8bTKI",
        "colab_type": "code",
        "colab": {}
      },
      "source": [
        "##### Model Subclassing\n",
        "# Create a custom model\n",
        "# Defnine your own forward pass"
      ],
      "execution_count": 0,
      "outputs": []
    },
    {
      "cell_type": "code",
      "metadata": {
        "id": "osPTCliXcuyl",
        "colab_type": "code",
        "colab": {}
      },
      "source": [
        "class MyModel(tf.keras.Model):\n",
        "  def __init__(self, num_classes=10):\n",
        "    super(MyModel, self).__init__(name='my_model')\n",
        "    self.num_classes=num_classes\n",
        "    #Define your layers here\n",
        "\n",
        "    self.dense_1 = layers.Dense(32,activation='relu')\n",
        "    self.dense_2 = layers.Dense(num_classes)\n",
        "\n",
        "  def call(self, inputs):\n",
        "    x =self.dense_1(inputs)\n",
        "    return self.dense_2(x)"
      ],
      "execution_count": 0,
      "outputs": []
    },
    {
      "cell_type": "code",
      "metadata": {
        "id": "OU3s1dWEdfXo",
        "colab_type": "code",
        "colab": {}
      },
      "source": [
        "model = MyModel(num_classes=10)"
      ],
      "execution_count": 0,
      "outputs": []
    },
    {
      "cell_type": "code",
      "metadata": {
        "id": "Vf9xRzsodkCJ",
        "colab_type": "code",
        "colab": {}
      },
      "source": [
        "model.compile(optimizer=tf.keras.optimizers.RMSprop(0.001),\n",
        "              loss=tf.keras.losses.CategoricalCrossentropy(from_logits=True),\n",
        "              metrics=['accuracy'])"
      ],
      "execution_count": 0,
      "outputs": []
    },
    {
      "cell_type": "code",
      "metadata": {
        "id": "6Es9fphrdq6A",
        "colab_type": "code",
        "outputId": "baf8a14c-8483-49af-e1a1-56c9da82d0a1",
        "colab": {
          "base_uri": "https://localhost:8080/",
          "height": 221
        }
      },
      "source": [
        "model.fit(data, labels, batch_size=32, epochs=5)"
      ],
      "execution_count": 0,
      "outputs": [
        {
          "output_type": "stream",
          "text": [
            "Train on 1000 samples\n",
            "Epoch 1/5\n",
            "1000/1000 [==============================] - 0s 98us/sample - loss: 11.9789 - acc: 0.1010\n",
            "Epoch 2/5\n",
            "1000/1000 [==============================] - 0s 39us/sample - loss: 13.1165 - acc: 0.1050\n",
            "Epoch 3/5\n",
            "1000/1000 [==============================] - 0s 37us/sample - loss: 14.3664 - acc: 0.1020\n",
            "Epoch 4/5\n",
            "1000/1000 [==============================] - 0s 36us/sample - loss: 15.5538 - acc: 0.1050\n",
            "Epoch 5/5\n",
            "1000/1000 [==============================] - 0s 35us/sample - loss: 16.7643 - acc: 0.1090\n"
          ],
          "name": "stdout"
        },
        {
          "output_type": "execute_result",
          "data": {
            "text/plain": [
              "<tensorflow.python.keras.callbacks.History at 0x7f27d75dbf60>"
            ]
          },
          "metadata": {
            "tags": []
          },
          "execution_count": 34
        }
      ]
    },
    {
      "cell_type": "code",
      "metadata": {
        "id": "LdYLQrH2dzBN",
        "colab_type": "code",
        "colab": {}
      },
      "source": [
        "##### Layers Subclassing\n",
        "# Create your custom layers"
      ],
      "execution_count": 0,
      "outputs": []
    },
    {
      "cell_type": "code",
      "metadata": {
        "id": "El-FdAiGd9by",
        "colab_type": "code",
        "colab": {}
      },
      "source": [
        "class MyLayer(layers.Layer):\n",
        "  def __init__(self, output_dim, **kwargs):\n",
        "    self.output_dims=output_dim\n",
        "    super(MyLayer, self).__init__(**kwargs)\n",
        "\n",
        "  def build(self, input_shape):\n",
        "    # Create a trainable weight variable for this layer.\n",
        "    self.kernel = self.add_weight(name='kernel',\n",
        "                                  shape=(input_shape[1], self.output_dims),\n",
        "                                  initializer='uniform',\n",
        "                                  trainable=True)\n",
        "  def call(self,inputs):\n",
        "    return tf.matmul(inputs, self.kernel)\n",
        "\n",
        "  def get_config(self):\n",
        "    base_config = super(MyLayer, self).get_config()\n",
        "    base_config['output_dim'] = self.output_dims\n",
        "    return base_config\n",
        "  \n",
        "  @classmethod\n",
        "  def from_config(cls, config):\n",
        "    return cls(**config)"
      ],
      "execution_count": 0,
      "outputs": []
    },
    {
      "cell_type": "code",
      "metadata": {
        "id": "GKcHZFnRgkzB",
        "colab_type": "code",
        "outputId": "e126a8d7-3c37-419f-88e6-07de91f225e4",
        "colab": {
          "base_uri": "https://localhost:8080/",
          "height": 292
        }
      },
      "source": [
        "model = tf.keras.Sequential([\n",
        "    MyLayer(10)])\n",
        "\n",
        "# The compile step specifies the training configuration\n",
        "model.compile(optimizer=tf.keras.optimizers.RMSprop(0.001),\n",
        "              loss=tf.keras.losses.CategoricalCrossentropy(from_logits=True),\n",
        "              metrics=['accuracy'])\n",
        "\n",
        "# Trains for 5 epochs.\n",
        "model.fit(data, labels, batch_size=32, epochs=5)"
      ],
      "execution_count": 0,
      "outputs": [
        {
          "output_type": "stream",
          "text": [
            "WARNING:tensorflow:From /usr/local/lib/python3.6/dist-packages/tensorflow_core/python/keras/initializers.py:119: calling RandomUniform.__init__ (from tensorflow.python.ops.init_ops) with dtype is deprecated and will be removed in a future version.\n",
            "Instructions for updating:\n",
            "Call initializer instance with the dtype argument instead of passing it to the constructor\n",
            "Train on 1000 samples\n",
            "Epoch 1/5\n",
            "1000/1000 [==============================] - 0s 82us/sample - loss: 11.4878 - acc: 0.0990\n",
            "Epoch 2/5\n",
            "1000/1000 [==============================] - 0s 35us/sample - loss: 11.4876 - acc: 0.0980\n",
            "Epoch 3/5\n",
            "1000/1000 [==============================] - 0s 38us/sample - loss: 11.4878 - acc: 0.0940\n",
            "Epoch 4/5\n",
            "1000/1000 [==============================] - 0s 37us/sample - loss: 11.4877 - acc: 0.0960\n",
            "Epoch 5/5\n",
            "1000/1000 [==============================] - 0s 37us/sample - loss: 11.4878 - acc: 0.0990\n"
          ],
          "name": "stdout"
        },
        {
          "output_type": "execute_result",
          "data": {
            "text/plain": [
              "<tensorflow.python.keras.callbacks.History at 0x7f27d7231c50>"
            ]
          },
          "metadata": {
            "tags": []
          },
          "execution_count": 42
        }
      ]
    },
    {
      "cell_type": "code",
      "metadata": {
        "id": "epvK2ph9goZ_",
        "colab_type": "code",
        "colab": {}
      },
      "source": [
        "##### Callbacks\n",
        "# A callback is an object passed to a model to customize and extend its behavior during training. \n",
        "# You can write your own custom callback, or use the built-in tf.keras.callbacks that include:\n",
        "\n",
        "# tf.keras.callbacks.ModelCheckpoint: Save checkpoints of your model at regular intervals.\n",
        "# tf.keras.callbacks.LearningRateScheduler: Dynamically change the learning rate.\n",
        "# tf.keras.callbacks.EarlyStopping: Interrupt training when validation performance has stopped improving.\n",
        "# tf.keras.callbacks.TensorBoard: Monitor the model's behavior using TensorBoard.\n",
        "# To use a tf.keras.callbacks.Callback, pass it to the model's fit method:"
      ],
      "execution_count": 0,
      "outputs": []
    },
    {
      "cell_type": "code",
      "metadata": {
        "id": "IlaEknTTjeic",
        "colab_type": "code",
        "outputId": "20a8b5db-69a1-4475-a075-d89500f88269",
        "colab": {
          "base_uri": "https://localhost:8080/",
          "height": 221
        }
      },
      "source": [
        "callbacks = [\n",
        "  # Interrupt training if `val_loss` stops improving for over 2 epochs\n",
        "  tf.keras.callbacks.EarlyStopping(patience=2, monitor='val_loss'),\n",
        "  # Write TensorBoard logs to `./logs` directory\n",
        "  tf.keras.callbacks.TensorBoard(log_dir='./logs')\n",
        "]\n",
        "\n",
        "model.fit(data, labels, batch_size=32, epochs = 5, callbacks=callbacks, validation_data=(val_data, val_labels))"
      ],
      "execution_count": 0,
      "outputs": [
        {
          "output_type": "stream",
          "text": [
            "Train on 1000 samples, validate on 100 samples\n",
            "Epoch 1/5\n",
            "1000/1000 [==============================] - 0s 109us/sample - loss: 11.4875 - acc: 0.0990 - val_loss: 11.3968 - val_acc: 0.0900\n",
            "Epoch 2/5\n",
            "1000/1000 [==============================] - 0s 43us/sample - loss: 11.4872 - acc: 0.0940 - val_loss: 11.3970 - val_acc: 0.0800\n",
            "Epoch 3/5\n",
            "1000/1000 [==============================] - 0s 42us/sample - loss: 11.4873 - acc: 0.0930 - val_loss: 11.3959 - val_acc: 0.0800\n",
            "Epoch 4/5\n",
            "1000/1000 [==============================] - 0s 41us/sample - loss: 11.4867 - acc: 0.0970 - val_loss: 11.3954 - val_acc: 0.1000\n",
            "Epoch 5/5\n",
            "1000/1000 [==============================] - 0s 41us/sample - loss: 11.4869 - acc: 0.0990 - val_loss: 11.3959 - val_acc: 0.1000\n"
          ],
          "name": "stdout"
        },
        {
          "output_type": "execute_result",
          "data": {
            "text/plain": [
              "<tensorflow.python.keras.callbacks.History at 0x7f27d71bbda0>"
            ]
          },
          "metadata": {
            "tags": []
          },
          "execution_count": 44
        }
      ]
    },
    {
      "cell_type": "code",
      "metadata": {
        "id": "HGm1BdrKjzAo",
        "colab_type": "code",
        "outputId": "d858fa60-bbac-4a7f-d788-b6cae614a0fe",
        "colab": {
          "base_uri": "https://localhost:8080/",
          "height": 34
        }
      },
      "source": [
        "##### Savings the weights values\n",
        "model = tf.keras.Sequential([\n",
        "layers.Dense(64, activation='relu', input_shape=(32,)),\n",
        "layers.Dense(10)])\n",
        "\n",
        "model.compile(optimizer=tf.keras.optimizers.Adam(0.001),\n",
        "              loss=tf.keras.losses.CategoricalCrossentropy(from_logits=True),\n",
        "              metrics=['accuracy'])\n",
        "\n",
        "# Save weights to a TensorFlow Checkpoint file\n",
        "model.save_weights('./weights/my_model')\n",
        "\n",
        "# Restore the model's state,\n",
        "# this requires a model with the same architecture.\n",
        "model.load_weights('./weights/my_model')\n"
      ],
      "execution_count": 0,
      "outputs": [
        {
          "output_type": "execute_result",
          "data": {
            "text/plain": [
              "<tensorflow.python.training.tracking.util.CheckpointLoadStatus at 0x7f27d71bb278>"
            ]
          },
          "metadata": {
            "tags": []
          },
          "execution_count": 45
        }
      ]
    },
    {
      "cell_type": "code",
      "metadata": {
        "id": "kM8ekAFukACu",
        "colab_type": "code",
        "colab": {}
      },
      "source": [
        "# By default, this saves the model's weights in the TensorFlow checkpoint file format. \n",
        "# Weights can also be saved to the Keras HDF5 format (the default for the multi-backend implementation of Keras):\n",
        "\n",
        "# Save weights to a HDF5 file\n",
        "model.save_weights('my_model.h5', save_format='h5')\n",
        "\n",
        "# Restore the model's state\n",
        "model.load_weights('my_model.h5')"
      ],
      "execution_count": 0,
      "outputs": []
    },
    {
      "cell_type": "code",
      "metadata": {
        "id": "Ivw0vxO6kHmn",
        "colab_type": "code",
        "outputId": "85c9c272-d4a7-43ab-de59-f51b799e9ad0",
        "colab": {
          "base_uri": "https://localhost:8080/",
          "height": 54
        }
      },
      "source": [
        "# Serialize a model to JSON format\n",
        "json_string = model.to_json()\n",
        "json_string"
      ],
      "execution_count": 0,
      "outputs": [
        {
          "output_type": "execute_result",
          "data": {
            "text/plain": [
              "'{\"class_name\": \"Sequential\", \"config\": {\"name\": \"sequential_4\", \"layers\": [{\"class_name\": \"Dense\", \"config\": {\"name\": \"dense_12\", \"trainable\": true, \"batch_input_shape\": [null, 32], \"dtype\": \"float32\", \"units\": 64, \"activation\": \"relu\", \"use_bias\": true, \"kernel_initializer\": {\"class_name\": \"GlorotUniform\", \"config\": {\"seed\": null, \"dtype\": \"float32\"}}, \"bias_initializer\": {\"class_name\": \"Zeros\", \"config\": {\"dtype\": \"float32\"}}, \"kernel_regularizer\": null, \"bias_regularizer\": null, \"activity_regularizer\": null, \"kernel_constraint\": null, \"bias_constraint\": null}}, {\"class_name\": \"Dense\", \"config\": {\"name\": \"dense_13\", \"trainable\": true, \"dtype\": \"float32\", \"units\": 10, \"activation\": \"linear\", \"use_bias\": true, \"kernel_initializer\": {\"class_name\": \"GlorotUniform\", \"config\": {\"seed\": null, \"dtype\": \"float32\"}}, \"bias_initializer\": {\"class_name\": \"Zeros\", \"config\": {\"dtype\": \"float32\"}}, \"kernel_regularizer\": null, \"bias_regularizer\": null, \"activity_regularizer\": null, \"kernel_constraint\": null, \"bias_constraint\": null}}]}, \"keras_version\": \"2.2.4-tf\", \"backend\": \"tensorflow\"}'"
            ]
          },
          "metadata": {
            "tags": []
          },
          "execution_count": 47
        }
      ]
    },
    {
      "cell_type": "code",
      "metadata": {
        "id": "xsH4mzYfkJ3p",
        "colab_type": "code",
        "outputId": "16d6cc77-5855-4fc3-ea43-0e35b229dd7a",
        "colab": {
          "base_uri": "https://localhost:8080/",
          "height": 680
        }
      },
      "source": [
        "import json\n",
        "import pprint\n",
        "pprint.pprint(json.loads(json_string))"
      ],
      "execution_count": 0,
      "outputs": [
        {
          "output_type": "stream",
          "text": [
            "{'backend': 'tensorflow',\n",
            " 'class_name': 'Sequential',\n",
            " 'config': {'layers': [{'class_name': 'Dense',\n",
            "                        'config': {'activation': 'relu',\n",
            "                                   'activity_regularizer': None,\n",
            "                                   'batch_input_shape': [None, 32],\n",
            "                                   'bias_constraint': None,\n",
            "                                   'bias_initializer': {'class_name': 'Zeros',\n",
            "                                                        'config': {'dtype': 'float32'}},\n",
            "                                   'bias_regularizer': None,\n",
            "                                   'dtype': 'float32',\n",
            "                                   'kernel_constraint': None,\n",
            "                                   'kernel_initializer': {'class_name': 'GlorotUniform',\n",
            "                                                          'config': {'dtype': 'float32',\n",
            "                                                                     'seed': None}},\n",
            "                                   'kernel_regularizer': None,\n",
            "                                   'name': 'dense_12',\n",
            "                                   'trainable': True,\n",
            "                                   'units': 64,\n",
            "                                   'use_bias': True}},\n",
            "                       {'class_name': 'Dense',\n",
            "                        'config': {'activation': 'linear',\n",
            "                                   'activity_regularizer': None,\n",
            "                                   'bias_constraint': None,\n",
            "                                   'bias_initializer': {'class_name': 'Zeros',\n",
            "                                                        'config': {'dtype': 'float32'}},\n",
            "                                   'bias_regularizer': None,\n",
            "                                   'dtype': 'float32',\n",
            "                                   'kernel_constraint': None,\n",
            "                                   'kernel_initializer': {'class_name': 'GlorotUniform',\n",
            "                                                          'config': {'dtype': 'float32',\n",
            "                                                                     'seed': None}},\n",
            "                                   'kernel_regularizer': None,\n",
            "                                   'name': 'dense_13',\n",
            "                                   'trainable': True,\n",
            "                                   'units': 10,\n",
            "                                   'use_bias': True}}],\n",
            "            'name': 'sequential_4'},\n",
            " 'keras_version': '2.2.4-tf'}\n"
          ],
          "name": "stdout"
        }
      ]
    },
    {
      "cell_type": "code",
      "metadata": {
        "id": "50e0d1m4kStH",
        "colab_type": "code",
        "outputId": "223a8b17-1ba3-4174-e589-54a7df82b4f6",
        "colab": {
          "base_uri": "https://localhost:8080/",
          "height": 139
        }
      },
      "source": [
        "fresh_model = tf.keras.models.model_from_json(json_string)"
      ],
      "execution_count": 0,
      "outputs": [
        {
          "output_type": "stream",
          "text": [
            "WARNING:tensorflow:From /usr/local/lib/python3.6/dist-packages/tensorflow_core/python/ops/init_ops.py:97: calling GlorotUniform.__init__ (from tensorflow.python.ops.init_ops) with dtype is deprecated and will be removed in a future version.\n",
            "Instructions for updating:\n",
            "Call initializer instance with the dtype argument instead of passing it to the constructor\n",
            "WARNING:tensorflow:From /usr/local/lib/python3.6/dist-packages/tensorflow_core/python/ops/init_ops.py:97: calling Zeros.__init__ (from tensorflow.python.ops.init_ops) with dtype is deprecated and will be removed in a future version.\n",
            "Instructions for updating:\n",
            "Call initializer instance with the dtype argument instead of passing it to the constructor\n"
          ],
          "name": "stdout"
        }
      ]
    },
    {
      "cell_type": "code",
      "metadata": {
        "id": "o8v1cd3QkYM-",
        "colab_type": "code",
        "outputId": "8f1c84a4-5f22-4d1c-92b0-c9db7707e04d",
        "colab": {
          "base_uri": "https://localhost:8080/",
          "height": 799
        }
      },
      "source": [
        "yaml_string = model.to_yaml()\n",
        "print(yaml_string)\n"
      ],
      "execution_count": 0,
      "outputs": [
        {
          "output_type": "stream",
          "text": [
            "backend: tensorflow\n",
            "class_name: Sequential\n",
            "config:\n",
            "  layers:\n",
            "  - class_name: Dense\n",
            "    config:\n",
            "      activation: relu\n",
            "      activity_regularizer: null\n",
            "      batch_input_shape: !!python/tuple [null, 32]\n",
            "      bias_constraint: null\n",
            "      bias_initializer:\n",
            "        class_name: Zeros\n",
            "        config: {dtype: float32}\n",
            "      bias_regularizer: null\n",
            "      dtype: float32\n",
            "      kernel_constraint: null\n",
            "      kernel_initializer:\n",
            "        class_name: GlorotUniform\n",
            "        config: {dtype: float32, seed: null}\n",
            "      kernel_regularizer: null\n",
            "      name: dense_12\n",
            "      trainable: true\n",
            "      units: 64\n",
            "      use_bias: true\n",
            "  - class_name: Dense\n",
            "    config:\n",
            "      activation: linear\n",
            "      activity_regularizer: null\n",
            "      bias_constraint: null\n",
            "      bias_initializer:\n",
            "        class_name: Zeros\n",
            "        config: {dtype: float32}\n",
            "      bias_regularizer: null\n",
            "      dtype: float32\n",
            "      kernel_constraint: null\n",
            "      kernel_initializer:\n",
            "        class_name: GlorotUniform\n",
            "        config: {dtype: float32, seed: null}\n",
            "      kernel_regularizer: null\n",
            "      name: dense_13\n",
            "      trainable: true\n",
            "      units: 10\n",
            "      use_bias: true\n",
            "  name: sequential_4\n",
            "keras_version: 2.2.4-tf\n",
            "\n"
          ],
          "name": "stdout"
        }
      ]
    },
    {
      "cell_type": "code",
      "metadata": {
        "id": "S67GFEsGkasr",
        "colab_type": "code",
        "colab": {}
      },
      "source": [
        "fresh_model = tf.keras.models.model_from_yaml(yaml_string)"
      ],
      "execution_count": 0,
      "outputs": []
    },
    {
      "cell_type": "code",
      "metadata": {
        "id": "Jeo-VEHFkiPf",
        "colab_type": "code",
        "outputId": "9ef52194-7c07-4a29-a5a6-49de66986a5a",
        "colab": {
          "base_uri": "https://localhost:8080/",
          "height": 204
        }
      },
      "source": [
        "##### Saving the entire model into one file\n",
        "\n",
        "\n",
        "# Create a simple model\n",
        "model = tf.keras.Sequential([\n",
        "  layers.Dense(10, activation='relu', input_shape=(32,)),\n",
        "  layers.Dense(10)\n",
        "])\n",
        "model.compile(optimizer='rmsprop',\n",
        "              loss=tf.keras.losses.CategoricalCrossentropy(from_logits=True),\n",
        "              metrics=['accuracy'])\n",
        "model.fit(data, labels, batch_size=32, epochs=5)\n",
        "\n",
        "\n",
        "# Save entire model to a HDF5 file\n",
        "model.save('my_model')\n",
        "\n",
        "# Recreate the exact same model, including weights and optimizer.\n",
        "model = tf.keras.models.load_model('my_model')"
      ],
      "execution_count": 0,
      "outputs": [
        {
          "output_type": "stream",
          "text": [
            "Train on 1000 samples\n",
            "Epoch 1/5\n",
            "1000/1000 [==============================] - 0s 110us/sample - loss: 12.5051 - acc: 0.1010\n",
            "Epoch 2/5\n",
            "1000/1000 [==============================] - 0s 38us/sample - loss: 14.0042 - acc: 0.1000\n",
            "Epoch 3/5\n",
            "1000/1000 [==============================] - 0s 39us/sample - loss: 15.9181 - acc: 0.1000\n",
            "Epoch 4/5\n",
            "1000/1000 [==============================] - 0s 38us/sample - loss: 17.6744 - acc: 0.1000\n",
            "Epoch 5/5\n",
            "1000/1000 [==============================] - 0s 35us/sample - loss: 19.0695 - acc: 0.1000\n"
          ],
          "name": "stdout"
        }
      ]
    },
    {
      "cell_type": "code",
      "metadata": {
        "id": "hhGMAoKbkqqH",
        "colab_type": "code",
        "colab": {}
      },
      "source": [
        ""
      ],
      "execution_count": 0,
      "outputs": []
    }
  ]
}